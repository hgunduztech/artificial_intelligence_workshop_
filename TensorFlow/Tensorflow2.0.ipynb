{
  "nbformat": 4,
  "nbformat_minor": 0,
  "metadata": {
    "colab": {
      "name": "Tensorflow2.0.ipynb",
      "version": "0.3.2",
      "provenance": []
    },
    "kernelspec": {
      "name": "python3",
      "display_name": "Python 3"
    }
  },
  "cells": [
    {
      "metadata": {
        "id": "cRA5-FJx0mx0",
        "colab_type": "code",
        "colab": {}
      },
      "cell_type": "code",
      "source": [
        "# https://www.tensorflow.org/install\n",
        "!pip install tensorflow==2.0.0-alpha0 "
      ],
      "execution_count": 0,
      "outputs": []
    },
    {
      "metadata": {
        "id": "fzXmobFW1gaR",
        "colab_type": "code",
        "colab": {
          "base_uri": "https://localhost:8080/",
          "height": 34
        },
        "outputId": "957214a7-6d4d-44a0-f322-c3f92be0fbe9"
      },
      "cell_type": "code",
      "source": [
        "import numpy as np\n",
        "import tensorflow as tf\n",
        "print(\"Tensorflow:\", tf.__version__)"
      ],
      "execution_count": 3,
      "outputs": [
        {
          "output_type": "stream",
          "text": [
            "Tensorflow: 2.0.0-alpha0\n"
          ],
          "name": "stdout"
        }
      ]
    },
    {
      "metadata": {
        "id": "8PTv_P7y7Ihf",
        "colab_type": "code",
        "colab": {
          "base_uri": "https://localhost:8080/",
          "height": 119
        },
        "outputId": "856e61e0-137b-4077-cfc7-e8bd1bc1b8c3"
      },
      "cell_type": "code",
      "source": [
        "# https://www.tensorflow.org/overview\n",
        "mnist = tf.keras.datasets.mnist\n",
        "(x_train, y_train),(x_test, y_test) = mnist.load_data()\n",
        "print(x_train.shape)\n",
        "print(y_train.shape)\n",
        "print(x_test.shape)\n",
        "print(y_test.shape)"
      ],
      "execution_count": 16,
      "outputs": [
        {
          "output_type": "stream",
          "text": [
            "Downloading data from https://storage.googleapis.com/tensorflow/tf-keras-datasets/mnist.npz\n",
            "11493376/11490434 [==============================] - 0s 0us/step\n",
            "(60000, 28, 28)\n",
            "(60000,)\n",
            "(10000, 28, 28)\n",
            "(10000,)\n"
          ],
          "name": "stdout"
        }
      ]
    },
    {
      "metadata": {
        "id": "VrBzRUA_7Iop",
        "colab_type": "code",
        "colab": {
          "base_uri": "https://localhost:8080/",
          "height": 364
        },
        "outputId": "b8d34d38-04c1-47a0-b298-8b251c4038ef"
      },
      "cell_type": "code",
      "source": [
        "import matplotlib.pyplot as plt\n",
        "plt.imshow(x_train[0])\n",
        "print(y_train[0])"
      ],
      "execution_count": 18,
      "outputs": [
        {
          "output_type": "stream",
          "text": [
            "5\n"
          ],
          "name": "stdout"
        },
        {
          "output_type": "display_data",
          "data": {
            "image/png": "[encoded data removed]",
            "text/plain": [
              "<Figure size 576x396 with 1 Axes>"
            ]
          },
          "metadata": {
            "tags": []
          }
        }
      ]
    },
    {
      "metadata": {
        "id": "vyBTfMcq7IuF",
        "colab_type": "code",
        "colab": {}
      },
      "cell_type": "code",
      "source": [
        "x_train = x_train / 255.0 \n",
        "x_test = x_test / 255.0"
      ],
      "execution_count": 0,
      "outputs": []
    },
    {
      "metadata": {
        "id": "tf67b-Hn7Izv",
        "colab_type": "code",
        "colab": {
          "base_uri": "https://localhost:8080/",
          "height": 204
        },
        "outputId": "12963b45-7b3f-4dcd-c6d0-5feaa17747d4"
      },
      "cell_type": "code",
      "source": [
        "model = tf.keras.models.Sequential([\n",
        "  tf.keras.layers.Flatten(input_shape=(28, 28)),\n",
        "  tf.keras.layers.Dense(128, activation='relu'),\n",
        "  tf.keras.layers.Dense(10, activation='softmax')\n",
        "])\n",
        "\n",
        "model.compile(optimizer='adam', loss='sparse_categorical_crossentropy', metrics=['accuracy'])\n",
        "model.fit(x_train, y_train, batch_size=50, epochs=5)"
      ],
      "execution_count": 20,
      "outputs": [
        {
          "output_type": "stream",
          "text": [
            "Epoch 1/5\n",
            "60000/60000 [==============================] - 4s 63us/sample - loss: 0.2835 - accuracy: 0.9202\n",
            "Epoch 2/5\n",
            "60000/60000 [==============================] - 4s 59us/sample - loss: 0.1236 - accuracy: 0.9641\n",
            "Epoch 3/5\n",
            "60000/60000 [==============================] - 3s 58us/sample - loss: 0.0872 - accuracy: 0.9743\n",
            "Epoch 4/5\n",
            "60000/60000 [==============================] - 3s 57us/sample - loss: 0.0651 - accuracy: 0.9806\n",
            "Epoch 5/5\n",
            "60000/60000 [==============================] - 3s 57us/sample - loss: 0.0519 - accuracy: 0.9842\n"
          ],
          "name": "stdout"
        },
        {
          "output_type": "execute_result",
          "data": {
            "text/plain": [
              "<tensorflow.python.keras.callbacks.History at 0x7fe07b3dcd30>"
            ]
          },
          "metadata": {
            "tags": []
          },
          "execution_count": 20
        }
      ]
    },
    {
      "metadata": {
        "id": "zlJOBxkk7I44",
        "colab_type": "code",
        "colab": {
          "base_uri": "https://localhost:8080/",
          "height": 51
        },
        "outputId": "969d6aa6-0ef2-484e-f12c-579b240f4f31"
      },
      "cell_type": "code",
      "source": [
        "model.evaluate(x_test, y_test)"
      ],
      "execution_count": 21,
      "outputs": [
        {
          "output_type": "stream",
          "text": [
            "10000/10000 [==============================] - 0s 43us/sample - loss: 0.0808 - accuracy: 0.9747\n"
          ],
          "name": "stdout"
        },
        {
          "output_type": "execute_result",
          "data": {
            "text/plain": [
              "[0.08076499402970076, 0.9747]"
            ]
          },
          "metadata": {
            "tags": []
          },
          "execution_count": 21
        }
      ]
    },
    {
      "metadata": {
        "id": "BlkVuyeU7I9r",
        "colab_type": "code",
        "colab": {
          "base_uri": "https://localhost:8080/",
          "height": 34
        },
        "outputId": "5d405b31-9c7a-406a-f79d-7dd4c3eb9849"
      },
      "cell_type": "code",
      "source": [
        "np.argmax(model(x_train[:1]))"
      ],
      "execution_count": 23,
      "outputs": [
        {
          "output_type": "execute_result",
          "data": {
            "text/plain": [
              "5"
            ]
          },
          "metadata": {
            "tags": []
          },
          "execution_count": 23
        }
      ]
    },
    {
      "metadata": {
        "id": "2NhNqnkY7JCs",
        "colab_type": "code",
        "colab": {}
      },
      "cell_type": "code",
      "source": [
        "# https://www.tensorflow.org/versions/r2.0/api_docs/python/tf/keras/Model\n",
        "class MyModel(tf.keras.Model):\n",
        "    def __init__(self):\n",
        "        super().__init__()\n",
        "        self.flat = tf.keras.layers.Flatten(input_shape=(28, 28))\n",
        "        self.dense1 = tf.keras.layers.Dense(128, activation=tf.nn.relu)\n",
        "        self.dense2 = tf.keras.layers.Dense(10, activation=tf.nn.softmax)\n",
        "        \n",
        "        # https://www.tensorflow.org/versions/r2.0/api_docs/python/tf/losses/SparseCategoricalCrossentropy\n",
        "        self.loss = tf.keras.losses.SparseCategoricalCrossentropy()\n",
        "        # https://www.tensorflow.org/versions/r2.0/api_docs/python/tf/metrics/Accuracy\n",
        "        self.accuracy = tf.keras.metrics.Accuracy()\n",
        "        # https://www.tensorflow.org/versions/r2.0/api_docs/python/tf/optimizers/Adam\n",
        "        self.optimizer = tf.optimizers.Adam()\n",
        "\n",
        "    def call(self, inputs):\n",
        "        flat = self.flat(inputs)\n",
        "        dense1 = self.dense1(flat)\n",
        "        return self.dense2(dense1)\n",
        "    \n",
        "    def get_loss(self, inputs, expected):\n",
        "        return self.loss(expected, self(inputs))\n",
        "    \n",
        "    def get_accuracy(self, inputs, expected):\n",
        "        return self.accuracy(expected, tf.argmax(self(inputs), axis=1))\n",
        "    \n",
        "    def optimize(self, inputs, expected):\n",
        "        loss = lambda: self.get_loss(inputs, expected)\n",
        "        self.optimizer.minimize(loss=loss, var_list=self.trainable_weights)\n",
        "        \n",
        "    def fit(self, x, y, batch_size, epochs):\n",
        "        num_samples = x.shape[0]\n",
        "        for ep in range(epochs):\n",
        "            for i_start in range(0, num_samples, batch_size):\n",
        "                x_batch = x[i_start : i_start+batch_size]\n",
        "                y_batch = y[i_start : i_start+batch_size]\n",
        "                self.optimize(x_batch, y_batch)\n",
        "            loss = self.get_loss(x,y)\n",
        "            acc = self.get_accuracy(x,y)\n",
        "            print(\"Epoch: {}, loss: {}, accuracy: {}\".format(ep, loss, acc))"
      ],
      "execution_count": 0,
      "outputs": []
    },
    {
      "metadata": {
        "id": "Vq4zjxu37JIZ",
        "colab_type": "code",
        "colab": {
          "base_uri": "https://localhost:8080/",
          "height": 102
        },
        "outputId": "13e54c1b-7676-4677-cd9c-8d8a3b721ee0"
      },
      "cell_type": "code",
      "source": [
        "my_model = MyModel()\n",
        "my_model.fit(x_train, y_train, batch_size=50, epochs=5)"
      ],
      "execution_count": 25,
      "outputs": [
        {
          "output_type": "stream",
          "text": [
            "Epoch: 0, loss: 0.17014266550540924, accuracy: 0.9492999911308289\n",
            "Epoch: 1, loss: 0.11693110316991806, accuracy: 0.9563249945640564\n",
            "Epoch: 2, loss: 0.08534319698810577, accuracy: 0.9618499875068665\n",
            "Epoch: 3, loss: 0.07103550434112549, accuracy: 0.9656083583831787\n",
            "Epoch: 4, loss: 0.0587860606610775, accuracy: 0.9685999751091003\n"
          ],
          "name": "stdout"
        }
      ]
    },
    {
      "metadata": {
        "id": "ohcmk04A7JPw",
        "colab_type": "code",
        "colab": {
          "base_uri": "https://localhost:8080/",
          "height": 34
        },
        "outputId": "8e86f726-0f88-428d-9b45-5ed096a716a0"
      },
      "cell_type": "code",
      "source": [
        "np.argmax(my_model(x_train[:1]))"
      ],
      "execution_count": 26,
      "outputs": [
        {
          "output_type": "execute_result",
          "data": {
            "text/plain": [
              "5"
            ]
          },
          "metadata": {
            "tags": []
          },
          "execution_count": 26
        }
      ]
    },
    {
      "metadata": {
        "id": "y6pSN3Ma18tX",
        "colab_type": "code",
        "colab": {
          "base_uri": "https://localhost:8080/",
          "height": 34
        },
        "outputId": "5fe67c3a-ee9c-4ad6-889f-0793bdcc354b"
      },
      "cell_type": "code",
      "source": [
        "a = tf.Variable(4.0)\n",
        "print(a.numpy())"
      ],
      "execution_count": 5,
      "outputs": [
        {
          "output_type": "stream",
          "text": [
            "4.0\n"
          ],
          "name": "stdout"
        }
      ]
    },
    {
      "metadata": {
        "id": "i7A99VFd2ghV",
        "colab_type": "code",
        "colab": {
          "base_uri": "https://localhost:8080/",
          "height": 34
        },
        "outputId": "3b190deb-22d7-450d-e92c-819402372bde"
      },
      "cell_type": "code",
      "source": [
        "def f(x):\n",
        "    return a * x\n",
        "print(f(5))"
      ],
      "execution_count": 6,
      "outputs": [
        {
          "output_type": "stream",
          "text": [
            "tf.Tensor(20.0, shape=(), dtype=float32)\n"
          ],
          "name": "stdout"
        }
      ]
    },
    {
      "metadata": {
        "id": "QtAZwDlX29Qe",
        "colab_type": "code",
        "colab": {
          "base_uri": "https://localhost:8080/",
          "height": 34
        },
        "outputId": "d3076286-03f2-4f16-e143-84373485cb43"
      },
      "cell_type": "code",
      "source": [
        "loss = lambda: abs(f(5) - 5)\n",
        "print(loss)"
      ],
      "execution_count": 13,
      "outputs": [
        {
          "output_type": "stream",
          "text": [
            "<function <lambda> at 0x7fe07b932268>\n"
          ],
          "name": "stdout"
        }
      ]
    },
    {
      "metadata": {
        "id": "rnv3khHF4TpC",
        "colab_type": "code",
        "colab": {
          "base_uri": "https://localhost:8080/",
          "height": 187
        },
        "outputId": "92e0396d-0f4e-4533-86f9-b96a4d0c9690"
      },
      "cell_type": "code",
      "source": [
        "optimizer = tf.optimizers.Adam(learning_rate=1)\n",
        "for _ in range(10):\n",
        "    optimizer.minimize(loss, var_list=[a])\n",
        "    print(a.numpy(), f(5))"
      ],
      "execution_count": 15,
      "outputs": [
        {
          "output_type": "stream",
          "text": [
            "2.0000014 tf.Tensor(10.000008, shape=(), dtype=float32)\n",
            "1.0000052 tf.Tensor(5.000026, shape=(), dtype=float32)\n",
            "2.7418137e-06 tf.Tensor(1.3709068e-05, shape=(), dtype=float32)\n",
            "-0.41843143 tf.Tensor(-2.0921571, shape=(), dtype=float32)\n",
            "-0.4904929 tf.Tensor(-2.4524646, shape=(), dtype=float32)\n",
            "-0.33375463 tf.Tensor(-1.6687732, shape=(), dtype=float32)\n",
            "-0.015380621 tf.Tensor(-0.076903105, shape=(), dtype=float32)\n",
            "0.42267495 tf.Tensor(2.1133747, shape=(), dtype=float32)\n",
            "0.95246416 tf.Tensor(4.762321, shape=(), dtype=float32)\n",
            "1.5544472 tf.Tensor(7.772236, shape=(), dtype=float32)\n"
          ],
          "name": "stdout"
        }
      ]
    },
    {
      "metadata": {
        "id": "MR4-3Eng5CaJ",
        "colab_type": "code",
        "colab": {}
      },
      "cell_type": "code",
      "source": [
        ""
      ],
      "execution_count": 0,
      "outputs": []
    }
  ]
}